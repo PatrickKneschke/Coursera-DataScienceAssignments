{
 "cells": [
  {
   "cell_type": "markdown",
   "id": "49f3fa53-5b2a-4e2d-bdac-491f5d82077e",
   "metadata": {},
   "source": [
    "# Data Science Tools and Ecosystem"
   ]
  },
  {
   "cell_type": "markdown",
   "id": "09fff9cf-5151-4fa5-8540-b2eadc4fdd6e",
   "metadata": {},
   "source": [
    "## Author :\n",
    "Patrick Kneschke"
   ]
  },
  {
   "cell_type": "markdown",
   "id": "d1b120e9-6462-45e9-ab8f-a171ba8807fe",
   "metadata": {},
   "source": [
    "#### In this notebook, Data Science Tools and Ecosystems are summarized."
   ]
  },
  {
   "cell_type": "markdown",
   "id": "f9060373-ef94-4c98-a5cc-f44cf15c9cb7",
   "metadata": {},
   "source": [
    "**Objectives :**\n",
    "- List programming languages in data science\n",
    "- List data science libraries\n",
    "- List data science tools\n",
    "- Give examples for arithmetic expressions"
   ]
  },
  {
   "cell_type": "markdown",
   "id": "93cc56bd-d647-4f9d-b7c0-7ba3e68be180",
   "metadata": {},
   "source": [
    "#### Some of the popular languages that Data Scientists use are :\n",
    "1. Python\n",
    "2. R\n",
    "3. Scala\n",
    "4. Julia"
   ]
  },
  {
   "cell_type": "markdown",
   "id": "94be8574-a521-476f-988e-9ddafdd29a08",
   "metadata": {},
   "source": [
    "#### Some of the commonly used libraries used by Data Scientists include :\n",
    "1. pandas\n",
    "2. seaborn\n",
    "3. scikit-learn\n",
    "4. pytorch"
   ]
  },
  {
   "cell_type": "markdown",
   "id": "a310474f-8fae-4459-b448-8d73ea0c0cde",
   "metadata": {},
   "source": [
    "Data Science Tools |\n",
    "--- |\n",
    "Jupyter |\n",
    "RStudio |\n",
    "Apache Spark |"
   ]
  },
  {
   "cell_type": "markdown",
   "id": "aca5589d-3dda-4f6c-8be5-c644473a2792",
   "metadata": {},
   "source": [
    "### Below are a few examples of evaluating arithmetic expressions in Python"
   ]
  },
  {
   "cell_type": "code",
   "execution_count": 1,
   "id": "46f27d3d-9fee-4df7-898f-6969931138cf",
   "metadata": {},
   "outputs": [
    {
     "data": {
      "text/plain": [
       "17"
      ]
     },
     "execution_count": 1,
     "metadata": {},
     "output_type": "execute_result"
    }
   ],
   "source": [
    "# This a simple arithmetic expression to mutiply then add integers\n",
    "(3 * 4) + 5"
   ]
  },
  {
   "cell_type": "code",
   "execution_count": 2,
   "id": "f0abafbf-1b3c-4a97-9a58-296d4a082984",
   "metadata": {},
   "outputs": [
    {
     "data": {
      "text/plain": [
       "3.3333333333333335"
      ]
     },
     "execution_count": 2,
     "metadata": {},
     "output_type": "execute_result"
    }
   ],
   "source": [
    "# This will convert 200 minutes to hours by diving by 60\n",
    "200 / 60"
   ]
  },
  {
   "cell_type": "code",
   "execution_count": null,
   "id": "277b8916-cac9-408b-a652-66fdb6683c1f",
   "metadata": {},
   "outputs": [],
   "source": []
  }
 ],
 "metadata": {
  "kernelspec": {
   "display_name": "Python 3 (ipykernel)",
   "language": "python",
   "name": "python3"
  },
  "language_info": {
   "codemirror_mode": {
    "name": "ipython",
    "version": 3
   },
   "file_extension": ".py",
   "mimetype": "text/x-python",
   "name": "python",
   "nbconvert_exporter": "python",
   "pygments_lexer": "ipython3",
   "version": "3.10.12"
  }
 },
 "nbformat": 4,
 "nbformat_minor": 5
}
